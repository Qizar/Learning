{
 "cells": [
  {
   "cell_type": "markdown",
   "metadata": {},
   "source": [
    "# Matplotlib"
   ]
  },
  {
   "cell_type": "code",
   "execution_count": null,
   "metadata": {},
   "outputs": [],
   "source": [
    "%matplotlib inline\n",
    "\n",
    "import numpy as np\n",
    "import matplotlib.pyplot as plt"
   ]
  },
  {
   "cell_type": "markdown",
   "metadata": {},
   "source": [
    "## Histograms"
   ]
  },
  {
   "cell_type": "markdown",
   "metadata": {},
   "source": [
    "Histograms can be used to judge the density of 1-dimensional data.  For example:"
   ]
  },
  {
   "cell_type": "code",
   "execution_count": null,
   "metadata": {},
   "outputs": [],
   "source": [
    "\n",
    "x = np.random.normal(size=1000)\n",
    "\n",
    "fig, ax = plt.subplots()\n",
    "\n",
    "H = ax.hist(x, bins=50, alpha=0.5, histtype='stepfilled')"
   ]
  },
  {
   "cell_type": "markdown",
   "metadata": {},
   "source": [
    "## Pie Plot"
   ]
  },
  {
   "cell_type": "markdown",
   "metadata": {},
   "source": [
    "Matplotlib can create pie diagrams with the function ``pie``:"
   ]
  },
  {
   "cell_type": "code",
   "execution_count": null,
   "metadata": {},
   "outputs": [],
   "source": [
    "###\n",
    "fracs = [30, 15, 45, 10]\n",
    "colors = ['b', 'g', 'r', 'w']\n",
    "\n",
    "fig, ax = plt.subplots(figsize=(6, 6))  # make the plot square\n",
    "pie = ax.pie(fracs, colors=colors, explode=(0, 0, 0.05, 0), shadow=True,\n",
    "             labels=['A', 'B', 'C', 'D'])"
   ]
  },
  {
   "cell_type": "markdown",
   "metadata": {},
   "source": [
    "## Scatter Plots"
   ]
  },
  {
   "cell_type": "markdown",
   "metadata": {},
   "source": [
    "We have seen scatterplots before, when using point-type line styles in the\n",
    "``plot`` command.  The ``scatter`` command allows more flexibility in the\n",
    "colors and shapes of the points:"
   ]
  },
  {
   "cell_type": "code",
   "execution_count": null,
   "metadata": {},
   "outputs": [],
   "source": [
    "###\n",
    "x = np.random.random(50)\n",
    "y = np.random.random(50)\n",
    "c = np.random.random(50)  # color of points\n",
    "s = 500 * np.random.random(50)  # size of points\n",
    "\n",
    "fig, ax = plt.subplots()\n",
    "im = ax.scatter(x, y, c=c, s=s, cmap=plt.cm.jet)\n",
    "\n",
    "# Add a colorbar\n",
    "fig.colorbar(im, ax=ax)\n",
    "\n",
    "# set the color limits - not necessary here, but good to know how.\n",
    "im.set_clim(0.0, 1.0)"
   ]
  },
  {
   "cell_type": "markdown",
   "metadata": {},
   "source": [
    "## Assignments\n",
    "- What is a hexplot and a 2d hexplot and how to implement them?\n",
    "- Do visualization on <b>Titanic Data</b> using matplotlib."
   ]
  }
 ],
 "metadata": {
  "kernelspec": {
   "display_name": "Python 3",
   "language": "python",
   "name": "python3"
  },
  "language_info": {
   "codemirror_mode": {
    "name": "ipython",
    "version": 3
   },
   "file_extension": ".py",
   "mimetype": "text/x-python",
   "name": "python",
   "nbconvert_exporter": "python",
   "pygments_lexer": "ipython3",
   "version": "3.6.5"
  }
 },
 "nbformat": 4,
 "nbformat_minor": 1
}
