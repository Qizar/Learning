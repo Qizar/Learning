{
 "cells": [
  {
   "cell_type": "markdown",
   "metadata": {},
   "source": [
    "# Classes and Objects"
   ]
  },
  {
   "cell_type": "markdown",
   "metadata": {},
   "source": [
    "- Object is simply a collection of data (variables) and methods (functions) that act on those data. And, class is a blueprint for the object.\n",
    "- For example, <b>Human Being</b> is a class and we the <b>Humans</b> are objects of the Human Being class.\n",
    "- Humans have <b>Attributes</b> like Height, Weight, Skin Color, Hair and we have <b>functions</b> like Talking, Walking, Eating."
   ]
  },
  {
   "cell_type": "markdown",
   "metadata": {},
   "source": [
    "## Defing a class"
   ]
  },
  {
   "cell_type": "markdown",
   "metadata": {},
   "source": [
    "- Classes are defined using the keyword <b>class</b>.\n",
    "- Class contains <b>functions</b> and <b>attributes</b> in them.\n",
    "- Classes name should have an <b>uppercase</b> letter in the front.\n",
    "- The first parameter of the functions of a class, should be <b>self</b>"
   ]
  },
  {
   "cell_type": "markdown",
   "metadata": {},
   "source": [
    "### Examples"
   ]
  },
  {
   "cell_type": "code",
   "execution_count": null,
   "metadata": {
    "scrolled": true
   },
   "outputs": [],
   "source": [
    "# Here's a simple class.\n",
    "\n",
    "class MyClass:\n",
    "    pass\n",
    "# This is a simple class which does nothing.\n",
    "# Creating an object of the class,\n",
    "\n",
    "obj = MyClass()\n",
    "\n",
    "# Let's define a class called Math,\n",
    "class Math:\n",
    "    def __init__(self, a, b):   # __init__ is called a constructor, which constructs the objects, it is automatically called when\n",
    "        self.a = a    # Variable declaration          # a class is created. \n",
    "        self.b = b    # self refers to the object.\n",
    "        \n",
    "    def add(self):\n",
    "        return self.a + self.b\n",
    "    \n",
    "    def sub(self):\n",
    "        return self.a - self.b\n",
    "    \n",
    "    def mul(self):\n",
    "        return self.a * self.b\n",
    "    \n",
    "    def div(self):\n",
    "        return self.a / self.b\n",
    "    \n",
    "    def mod(self):\n",
    "        return self.a % self.b\n",
    "    \n",
    "# Creating an object,\n",
    "math_object = Math(10, 5)    # __init__(self, a, b) has three parameters but we only passed two because self will be replaced\n",
    "                             # by the name of the object. So, internally it will look something like this:\n",
    "                             # __init__(math_object, 10, 5) \n",
    "        \n",
    "math_object.add()    # Output: 15, self will be replaced by the object name\n",
    "math_object.mul()    # Output: 50\n",
    "\n",
    "math_object.a        # Output: 10\n",
    "math_object.b        # output: 5"
   ]
  }
 ],
 "metadata": {
  "kernelspec": {
   "display_name": "Python 3",
   "language": "python",
   "name": "python3"
  },
  "language_info": {
   "codemirror_mode": {
    "name": "ipython",
    "version": 3
   },
   "file_extension": ".py",
   "mimetype": "text/x-python",
   "name": "python",
   "nbconvert_exporter": "python",
   "pygments_lexer": "ipython3",
   "version": "3.6.5"
  }
 },
 "nbformat": 4,
 "nbformat_minor": 2
}
