{
 "cells": [
  {
   "cell_type": "markdown",
   "metadata": {},
   "source": [
    "# Exception Handling"
   ]
  },
  {
   "cell_type": "markdown",
   "metadata": {},
   "source": [
    "- Python has many built-in exceptions which forces your program to output an error when something in it goes wrong.\n",
    "- When these exceptions occur, it causes the current program to stop. If not handled, our program will crash."
   ]
  },
  {
   "cell_type": "markdown",
   "metadata": {},
   "source": [
    "## Catching Exceptions"
   ]
  },
  {
   "cell_type": "markdown",
   "metadata": {},
   "source": [
    "- An operation which may raise an Exception is placed inside a <b>try</b> block."
   ]
  },
  {
   "cell_type": "markdown",
   "metadata": {},
   "source": [
    "### Examples"
   ]
  },
  {
   "cell_type": "code",
   "execution_count": null,
   "metadata": {},
   "outputs": [],
   "source": [
    "# Let's say you are taking a number as input from the user and returning the quotient.\n",
    "\n",
    "a, b = map(int, input().split())\n",
    "print(f'{a} divided by {b} is {a/b}')\n",
    "# This program will break if the user enters a 0 as the divisor, or a string.\n",
    "\n",
    "# To handle this, we can write the above program as:\n",
    "try:\n",
    "    a, b = map(int, input().split())\n",
    "    print(f'{a} divided by {b} is {a/b}')\n",
    "except:\n",
    "    print('Please enter the correct input.')\n",
    "# The above program will print the 'Please enter the correct input.', if the user enters zero or text.\n",
    "# But wat if we want to customize this and give a different error message if the user enters zero and a different message for\n",
    "# text input.\n",
    "\n",
    "# You can achieve this using the below code,\n",
    "# This code will keep on running until the user enters an integer.\n",
    "while True:\n",
    "    try:\n",
    "        a, b = map(int, input().split())\n",
    "        print(f'{a} divided by {b} is {a/b}')\n",
    "\n",
    "        break\n",
    "    except ZeroDivisionError:\n",
    "        print('You can\\'t divide by zero')\n",
    "    except:\n",
    "        print('Please enter an integer as input.')"
   ]
  },
  {
   "cell_type": "markdown",
   "metadata": {},
   "source": [
    "## try ... finally block"
   ]
  },
  {
   "cell_type": "markdown",
   "metadata": {},
   "source": [
    "- The try statement in Python can have an optional finally clause. This clause is executed no matter what."
   ]
  },
  {
   "cell_type": "markdown",
   "metadata": {},
   "source": [
    "### Examples"
   ]
  },
  {
   "cell_type": "code",
   "execution_count": null,
   "metadata": {},
   "outputs": [],
   "source": [
    "try:\n",
    "    f = open('test.txt', 'r')   # The file doesn't exist\n",
    "except:\n",
    "    print('No such file exists.')\n",
    "finally:\n",
    "    print('This will be printed in the end')  # This will be printed even if the file exists or not."
   ]
  },
  {
   "cell_type": "markdown",
   "metadata": {},
   "source": [
    "## raise statement"
   ]
  },
  {
   "cell_type": "markdown",
   "metadata": {},
   "source": [
    "- The <b>raise</b> keyword is used to raise exceptions in Python."
   ]
  },
  {
   "cell_type": "markdown",
   "metadata": {},
   "source": [
    "### Examples"
   ]
  },
  {
   "cell_type": "code",
   "execution_count": null,
   "metadata": {},
   "outputs": [],
   "source": [
    "# If you want to raise a built-in Exception, you can use the keyword \"raise\"\n",
    "\n",
    "raise KeyboardInterrupt('This is the KeyboardInterrupt Exception')\n",
    "# It will print\n",
    "# Traceback (most recent call last):\n",
    "#   File \"<pyshell#1>\", line 1, in <module>\n",
    "#     raise KeyboardInterrupt('This is the KeyboardInterrupt Exception')\n",
    "# KeyboardInterrupt: This is the KeyboardInterrupt Exception\n",
    "\n",
    "# A sample code demonstrating the use of 'as' keyword,\n",
    "while True:\n",
    "    try:\n",
    "        num = int(input(\"Enter an integer: \"))\n",
    "        if num > 0:\n",
    "            print(f'{num} is positive')\n",
    "        elif num < 0:\n",
    "            print(f'{num} is negative')\n",
    "        else:\n",
    "            print(f'{num} is equal to zero')\n",
    "        break\n",
    "    except ValueError as e:\n",
    "        print(f'{e}')\n",
    "        \n",
    "# If you run the above code and give the input as text, this will be printed: \"invalid literal for int() with base 10: \""
   ]
  },
  {
   "cell_type": "markdown",
   "metadata": {},
   "source": [
    "## Assignments"
   ]
  },
  {
   "cell_type": "markdown",
   "metadata": {},
   "source": [
    "- How should we use else block with Exception Handling?\n",
    "- Difference between else block and finally block in Exception handling?\n",
    "- Solve the problem: https://www.hackerrank.com/challenges/exceptions/problem"
   ]
  }
 ],
 "metadata": {
  "kernelspec": {
   "display_name": "Python 3",
   "language": "python",
   "name": "python3"
  },
  "language_info": {
   "codemirror_mode": {
    "name": "ipython",
    "version": 3
   },
   "file_extension": ".py",
   "mimetype": "text/x-python",
   "name": "python",
   "nbconvert_exporter": "python",
   "pygments_lexer": "ipython3",
   "version": "3.6.5"
  }
 },
 "nbformat": 4,
 "nbformat_minor": 2
}
